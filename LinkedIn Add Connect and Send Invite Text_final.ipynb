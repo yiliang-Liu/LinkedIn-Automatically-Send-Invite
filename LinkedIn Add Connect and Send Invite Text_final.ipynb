{
 "cells": [
  {
   "cell_type": "code",
   "execution_count": 9,
   "metadata": {},
   "outputs": [],
   "source": [
    "from jupyterthemes import jtplot\n",
    "jtplot.style()\n",
    "from selenium import webdriver"
   ]
  },
  {
   "cell_type": "code",
   "execution_count": 10,
   "metadata": {},
   "outputs": [],
   "source": [
    "chromedriver = 'F:\\\\Web Scraping\\\\chromedriver_win32\\\\chromedriver'"
   ]
  },
  {
   "cell_type": "code",
   "execution_count": 58,
   "metadata": {},
   "outputs": [],
   "source": [
    "Info = {\n",
    "    'username': 'yl3792@columbia.edu',\n",
    "    'password': 'LYL1995mama',\n",
    "    'target_link': 'https://www.linkedin.com/in/angela-zhang-cfa-03a26041/',\n",
    "    'target_firstname': 'Angela'\n",
    "}\n",
    "\n",
    "invite_text = str('Dear ' + Info.get('target_firstname') + ',\\n\\n' + \n",
    "   \"This is Yiliang Liu, a master student in Columbia University. \" + \n",
    "   \"I am very interested in quantitative finance and machine learning area. \" + \n",
    "   \"Currently, I work as a data analyst intern in a cryptocurrency company. \" + \n",
    "   \"It would be very nice of you to accept my invitation. Thanks!\\n\\n\\n\" + \n",
    "   \"Best,\\n\" + 'Yiliang')"
   ]
  },
  {
   "cell_type": "code",
   "execution_count": 61,
   "metadata": {},
   "outputs": [],
   "source": [
    "def LinkedIn_Add_Connect(Info, invite_text):\n",
    "    # the path of chromedriver\n",
    "    chromedriver = 'F:\\\\Web Scraping\\\\chromedriver_win32\\\\chromedriver'\n",
    "    # Open LinkedIn \n",
    "    url = 'https://www.linkedin.com'\n",
    "    browser = webdriver.Chrome(chromedriver)\n",
    "    browser.get(url)\n",
    "    # Sing in LinkedIn\n",
    "    username_field = browser.find_element_by_id('login-email')\n",
    "    password_field = browser.find_element_by_id(\"login-password\")\n",
    "    \n",
    "    username = Info.get('username')\n",
    "    password = Info.get('password')\n",
    "    username_field.send_keys(username)\n",
    "    browser.implicitly_wait(1)\n",
    "    password_field.send_keys(password)\n",
    "    browser.implicitly_wait(1)\n",
    "    # Click for sign in \n",
    "    browser.find_element_by_id('login-submit').click()\n",
    "    # Check tab title\n",
    "    print(\"Tag title: \" + browser.title)\n",
    "\n",
    "    # Open new page\n",
    "    browser.execute_script(\"window.open('{}', 'new_window')\".format(Info.get('target_link')))\n",
    "    # Switch to the new page\n",
    "    # https://stackoverflow.com/questions/37088589/selenium-wont-open-a-new-url-in-a-new-tab-python-chrome\n",
    "    browser.switch_to.window(browser.window_handles[1])\n",
    "    # Check title\n",
    "    print(\"Tag title: \" + browser.title)\n",
    "    \n",
    "    # Click Connect\n",
    "    browser.find_element_by_class_name('pv-s-profile-actions').click()\n",
    "    \n",
    "    # Click add note\n",
    "    browser.find_element_by_class_name('send-invite__actions').click()\n",
    "    \n",
    "    invite_field = browser.find_element_by_id('custom-message')\n",
    "    # Write message\n",
    "    invite_field.send_keys(invite_text)\n",
    "    # Click send message button\n",
    "    browser.find_element_by_css_selector('.button-primary-large.ml1').click()\n",
    "    # Quick \n",
    "    browser.quit()\n",
    "    print('Success!')"
   ]
  },
  {
   "cell_type": "code",
   "execution_count": 62,
   "metadata": {},
   "outputs": [
    {
     "name": "stdout",
     "output_type": "stream",
     "text": [
      "Tag title: LinkedIn\n",
      "Tag title: Angela Zhang, CFA | LinkedIn\n",
      "Success!\n"
     ]
    }
   ],
   "source": [
    "LinkedIn_Add_Connect(Info, invite_text)"
   ]
  },
  {
   "cell_type": "code",
   "execution_count": null,
   "metadata": {},
   "outputs": [],
   "source": []
  }
 ],
 "metadata": {
  "kernelspec": {
   "display_name": "Python 3",
   "language": "python",
   "name": "python3"
  },
  "language_info": {
   "codemirror_mode": {
    "name": "ipython",
    "version": 3
   },
   "file_extension": ".py",
   "mimetype": "text/x-python",
   "name": "python",
   "nbconvert_exporter": "python",
   "pygments_lexer": "ipython3",
   "version": "3.6.0"
  }
 },
 "nbformat": 4,
 "nbformat_minor": 2
}
